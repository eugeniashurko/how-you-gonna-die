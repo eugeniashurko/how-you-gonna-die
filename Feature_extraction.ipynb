{
 "cells": [
  {
   "cell_type": "markdown",
   "metadata": {},
   "source": [
    "# Feature extraction\n",
    "\n",
    "Here we implement feature extraction utils"
   ]
  },
  {
   "cell_type": "code",
   "execution_count": 2,
   "metadata": {
    "collapsed": true
   },
   "outputs": [],
   "source": [
    "import sqlite3\n",
    "import numpy as np\n",
    "import pandas as pd\n",
    "from pickle import load, dump\n",
    "\n",
    "skipcols = (6, 15, 18, 20, 21, 24)\n",
    "usecols = [n for n in range(38) if n not in skipcols]\n",
    "\n",
    "pd_data = pd.read_csv('data/DeathRecords.csv', index_col=0)"
   ]
  },
  {
   "cell_type": "code",
   "execution_count": 7,
   "metadata": {
    "collapsed": true
   },
   "outputs": [],
   "source": [
    "education_categories = load(open(\"education_categories.pickle\", \"rb\"))\n",
    "sex_categories = load(open(\"sex_categories.pickle\", \"rb\"))\n",
    "status_categories = load(open(\"status_categories.pickle\", \"rb\"))"
   ]
  },
  {
   "cell_type": "code",
   "execution_count": 42,
   "metadata": {
    "collapsed": true
   },
   "outputs": [],
   "source": [
    "features = np.column_stack((\n",
    "        education_categories.as_matrix(),\n",
    "        sex_categories.as_matrix(),\n",
    "        pd_data[\"RaceRecode3\"].as_matrix(),\n",
    "        status_categories.as_matrix()\n",
    "    ))"
   ]
  },
  {
   "cell_type": "code",
   "execution_count": 43,
   "metadata": {
    "collapsed": true
   },
   "outputs": [],
   "source": [
    "dump(features, open(\"features4.pickle\", \"wb\"))"
   ]
  },
  {
   "cell_type": "code",
   "execution_count": 44,
   "metadata": {
    "collapsed": true
   },
   "outputs": [],
   "source": [
    "dump(pd_data[\"CauseRecode39\"].as_matrix(), open(\"cause.pickle\", \"wb\"))"
   ]
  },
  {
   "cell_type": "code",
   "execution_count": 3,
   "metadata": {
    "collapsed": false
   },
   "outputs": [],
   "source": [
    "dump(pd_data[\"MannerOfDeath\"].as_matrix(), open(\"manner.pickle\", \"wb\"))"
   ]
  },
  {
   "cell_type": "code",
   "execution_count": null,
   "metadata": {
    "collapsed": true
   },
   "outputs": [],
   "source": []
  }
 ],
 "metadata": {
  "kernelspec": {
   "display_name": "Python 3",
   "language": "python",
   "name": "python3"
  },
  "language_info": {
   "codemirror_mode": {
    "name": "ipython",
    "version": 3
   },
   "file_extension": ".py",
   "mimetype": "text/x-python",
   "name": "python",
   "nbconvert_exporter": "python",
   "pygments_lexer": "ipython3",
   "version": "3.5.1"
  }
 },
 "nbformat": 4,
 "nbformat_minor": 0
}
