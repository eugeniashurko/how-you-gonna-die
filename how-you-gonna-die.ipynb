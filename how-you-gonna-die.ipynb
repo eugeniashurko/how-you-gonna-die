{
 "cells": [
  {
   "cell_type": "markdown",
   "metadata": {},
   "source": [
    "**Authors:** Vincent Michielini, Etienne Moutot, Ievgeniia Oshurko"
   ]
  },
  {
   "cell_type": "markdown",
   "metadata": {},
   "source": [
    "# Introduction\n",
    "\n",
    "This project is made around the dataset: Record of every death in the US for the year 2014, by the  Centers for Disease Control and Prevention (CDC). (https://www.kaggle.com/cdc/mortality).\n",
    "\n",
    "We first investigate the data to understand correlations between the fields, then we try to implement statistical learning models to be able to give predictions about manner and causes of death. Finally, we try to apply some unsupervied clustering techniques to see what interesting patterns could be found."
   ]
  },
  {
   "cell_type": "markdown",
   "metadata": {},
   "source": [
    "# Data Preprocessing and Analysis\n",
    "Here we perform data preprocessing from the raw dataset. We try to apply techniques of descritive statistics to understand the underlying structure of data.\n",
    "\n",
    "## Data preprocessing\n",
    "\n",
    "### Fields in dataset:\n",
    "\n",
    "- Id\n",
    "- ResidentStatus\n",
    "- Education1989Revision\n",
    "- Education2003Revision\n",
    "- EducationReportingFlag\n",
    "- MonthOfDeath\n",
    "- Sex\n",
    "- AgeType\n",
    "- Age\n",
    "- AgeSubstitutionFlag\n",
    "- AgeRecode52\n",
    "- AgeRecode27\n",
    "- AgeRecode12\n",
    "- InfantAgeRecode22\n",
    "- PlaceOfDeathAndDecedentsStatus\n",
    "- MaritalStatus\n",
    "- DayOfWeekOfDeath\n",
    "- CurrentDataYear\n",
    "- InjuryAtWork\n",
    "- MannerOfDeath\n",
    "- MethodOfDisposition\n",
    "- Autopsy\n",
    "- ActivityCode\n",
    "- PlaceOfInjury\n",
    "- Icd10Code\n",
    "- CauseRecode358\n",
    "- CauseRecode113\n",
    "- InfantCauseRecode130\n",
    "- CauseRecode39\n",
    "- NumberOfEntityAxisConditions\n",
    "- NumberOfRecordAxisConditions\n",
    "- Race\n",
    "- BridgedRaceFlag\n",
    "- RaceImputationFlag\n",
    "- RaceRecode3\n",
    "- RaceRecode5\n",
    "- HispanicOrigin\n",
    "- HispanicOriginRaceRecode"
   ]
  },
  {
   "cell_type": "markdown",
   "metadata": {},
   "source": [
    "We first import the dataset."
   ]
  },
  {
   "cell_type": "code",
   "execution_count": null,
   "metadata": {
    "collapsed": false
   },
   "outputs": [],
   "source": [
    "%pylab inline\n",
    "import numpy as np\n",
    "import pandas as pd\n",
    "import matplotlib.pyplot as plt\n",
    "from matplotlib.backends.backend_pdf import PdfPages\n",
    "\n",
    "pd_data = pd.read_csv('data/DeathRecords.csv', index_col=0)"
   ]
  },
  {
   "cell_type": "markdown",
   "metadata": {},
   "source": [
    "### Education\n",
    "Categories we extract from the data about education\n",
    "\n",
    "- 0: Unkown\n",
    "- 1: 8th grade or less\n",
    "- 2: 12th grade, no diploma\n",
    "- 3: high school graduate or GED completed\n",
    "- 4: some college credit, but no degree, Associate degree\n",
    "- 5: Bachelor's degree\n",
    "- 6: Master's degree or higher\n"
   ]
  },
  {
   "cell_type": "code",
   "execution_count": 6,
   "metadata": {
    "collapsed": false
   },
   "outputs": [],
   "source": [
    "from pickle import load\n",
    "education_categories = load(open(\"education_categories.pickle\", \"rb\"))"
   ]
  },
  {
   "cell_type": "markdown",
   "metadata": {},
   "source": [
    "#### Distribution of the education categories\n",
    "\n",
    "We see that the most frequent category is the number 3. It corresponds to the high school graduated or GED completed."
   ]
  },
  {
   "cell_type": "code",
   "execution_count": 23,
   "metadata": {
    "collapsed": false
   },
   "outputs": [
    {
     "data": {
      "image/png": "[encoded data removed]",
      "text/plain": [
       "<matplotlib.figure.Figure at 0x7fca79cdfef0>"
      ]
     },
     "metadata": {},
     "output_type": "display_data"
    }
   ],
   "source": [
    "fig, ax = plt.subplots()\n",
    "fig.set_size_inches(9, 5)\n",
    "\n",
    "ax.hist(education_categories.as_matrix(), bins = 7, color=\"#2668A8\", edgecolor=\"white\")\n",
    "ax.set_title(\"Distribution of education category\")\n",
    "\n",
    "ax.set_xticks(np.arange(7))\n",
    "\n",
    "ax.title.set_fontsize(16)\n",
    "ax.set_yticklabels([])\n",
    "\n",
    "for label in (ax.get_xticklabels()):\n",
    "    label.set_fontsize(14)\n",
    "\n",
    "plt.show()"
   ]
  },
  {
   "cell_type": "markdown",
   "metadata": {},
   "source": [
    "### Sex\n",
    "\n",
    "* 0: Male\n",
    "* 1: Female"
   ]
  },
  {
   "cell_type": "code",
   "execution_count": 11,
   "metadata": {
    "collapsed": false
   },
   "outputs": [],
   "source": [
    "sex_categories = load(open(\"sex_categories.pickle\", \"rb\"))"
   ]
  },
  {
   "cell_type": "markdown",
   "metadata": {},
   "source": [
    "#### Distribution of the sexes\n",
    "\n",
    "The distribution is uniform in this dataset."
   ]
  },
  {
   "cell_type": "code",
   "execution_count": 16,
   "metadata": {
    "collapsed": false
   },
   "outputs": [
    {
     "data": {
      "image/png": "[encoded data removed]",
      "text/plain": [
       "<matplotlib.figure.Figure at 0x7fca79c80828>"
      ]
     },
     "metadata": {},
     "output_type": "display_data"
    }
   ],
   "source": [
    "fig, ax = plt.subplots()\n",
    "fig.set_size_inches(2, 4)\n",
    "\n",
    "plt.hist(sex_categories.as_matrix(), bins = 2, color=\"#2668A8\", edgecolor=\"white\")\n",
    "ax.set_xticks([])\n",
    "plt.title(\"Distribution of sexes\")\n",
    "\n",
    "plt.show()"
   ]
  },
  {
   "cell_type": "markdown",
   "metadata": {},
   "source": [
    "### Age\n",
    "Age is divinded into 27 categories:\n",
    "\n",
    "* 01 : Under 1 month (includes not stated weeks, days, hours, and minutes)\n",
    "* 02 : 1 month - 11 months (includes not stated months)\n",
    "* 03 : 1 year\n",
    "* 04 : 2 years\n",
    "* 05 : 3 years\n",
    "* 06 : 4 years\n",
    "* 07 : 5 -  9 years\n",
    "* 08 : 10 - 14 years\n",
    "* 09 :  15 - 19 years\n",
    "* 10 : 20 - 24 years\n",
    "* 11 : 25 - 29 years\n",
    "* 12 : 30 - 34 years\n",
    "* 13 : 35 - 39 years\n",
    "* 14 : 40 - 44 years\n",
    "* 15 : 45 - 49 years\n",
    "* 16 : 50 - 54 years\n",
    "* 17 : 55 - 59 years\n",
    "* 18 : 60 - 64 years\n",
    "* 19 : 65 - 69 years\n",
    "* 20 : 70 - 74 years \n",
    "* 21 : 75 - 79 years\n",
    "* 22 : 80 - 84 years\n",
    "* 23 : 85 - 89 years\n",
    "* 24 : 90 - 94 years\n",
    "* 25 : 95 - 99 years\n",
    "* 26 : 100 years and over\n",
    "* 27 : Age not stated"
   ]
  },
  {
   "cell_type": "markdown",
   "metadata": {
    "collapsed": true
   },
   "source": [
    "#### Distribution of the ages\n",
    "\n",
    "We can see that the more frequent death records are for older age. We also see that the most frequent death record for children is under 1 year-old."
   ]
  },
  {
   "cell_type": "code",
   "execution_count": 19,
   "metadata": {
    "collapsed": false
   },
   "outputs": [
    {
     "data": {
      "image/png": "[encoded data removed]",
      "text/plain": [
       "<matplotlib.figure.Figure at 0x7fca79c96048>"
      ]
     },
     "metadata": {},
     "output_type": "display_data"
    }
   ],
   "source": [
    "fig, ax = plt.subplots()\n",
    "fig.set_size_inches(11, 7)\n",
    "\n",
    "ax.hist(pd_data[\"AgeRecode27\"].as_matrix(), bins = 27, color=\"#2668A8\", edgecolor=\"white\")\n",
    "\n",
    "ax.set_title(\"Distribution of ages in death records\")\n",
    "\n",
    "ax.set_xticks(np.arange(27) + 0.5)\n",
    "ax.set_xticklabels(np.arange(1,28))\n",
    "ax.set_xlim([1, 27])\n",
    "\n",
    "plt.show()"
   ]
  },
  {
   "cell_type": "markdown",
   "metadata": {},
   "source": [
    "### Race\n",
    "Race encoded into 3 bins\n",
    "\n",
    "* 1 : White\n",
    "* 2 : Races other than White or Black\n",
    "* 3 : Black"
   ]
  },
  {
   "cell_type": "code",
   "execution_count": 22,
   "metadata": {
    "collapsed": false
   },
   "outputs": [
    {
     "data": {
      "image/png": "[encoded data removed]",
      "text/plain": [
       "<matplotlib.figure.Figure at 0x7fca79cb5940>"
      ]
     },
     "metadata": {},
     "output_type": "display_data"
    }
   ],
   "source": [
    "fig, ax = plt.subplots()\n",
    "fig.set_size_inches(2, 4)\n",
    "\n",
    "ax.hist(pd_data[\"RaceRecode3\"].as_matrix(), bins = 3, color=\"#2668A8\", edgecolor=\"white\")\n",
    "ax.set_title(\"Distribution of race\")\n",
    "\n",
    "ax.set_xticks(np.arange(1,4) + [0.3, 0, -0.3])\n",
    "ax.set_xticklabels([\"White\", \"Other\", \"Black\"], rotation=60)\n",
    "\n",
    "ax.title.set_fontsize(16)\n",
    "ax.set_yticklabels([])\n",
    "\n",
    "for label in (ax.get_xticklabels()):\n",
    "    label.set_fontsize(14)\n",
    "\n",
    "plt.show()"
   ]
  },
  {
   "cell_type": "markdown",
   "metadata": {},
   "source": [
    "### Cause of death\n",
    "Cause of death is divided into 39 categories.\n",
    "See http://www.cdc.gov/nchs/data/dvs/Record_Layout_2014.pdf p19 for more details.\n",
    "#### Distribution of the causes of death\n",
    "The most frequent causes of death are:\n",
    "\n",
    "* Ischemic heart diseases\n",
    "* Malignant neoplasms of trachea, bronchus and lung and other malignant neoplasms\n",
    "* Chronic lower respiratory diseases"
   ]
  },
  {
   "cell_type": "code",
   "execution_count": 29,
   "metadata": {
    "collapsed": false
   },
   "outputs": [
    {
     "data": {
      "image/png": "[encoded data removed]",
      "text/plain": [
       "<matplotlib.figure.Figure at 0x7fca79db17b8>"
      ]
     },
     "metadata": {},
     "output_type": "display_data"
    }
   ],
   "source": [
    "fig, ax = plt.subplots()\n",
    "fig.set_size_inches(12, 7)\n",
    "\n",
    "ax.hist(pd_data[\"CauseRecode39\"].as_matrix(), bins = 39, color=\"#2668A8\", edgecolor=\"white\")\n",
    "ax.set_title(\"Distribution of causes of death\")\n",
    "\n",
    "ax.title.set_fontsize(16)\n",
    "\n",
    "for label in (ax.get_xticklabels()):\n",
    "    label.set_fontsize(14)\n",
    "\n",
    "plt.show()"
   ]
  },
  {
   "cell_type": "markdown",
   "metadata": {
    "collapsed": true
   },
   "source": [
    "### Marital status\n",
    "The marital status is divided into 5 categories:\n",
    "\n",
    "* 0 : Never married, single\n",
    "* 1 : Married\n",
    "* 2 : Widowed\n",
    "* 3 : Divorced\n",
    "* 4 : Marital Status unknown"
   ]
  },
  {
   "cell_type": "code",
   "execution_count": 30,
   "metadata": {
    "collapsed": true
   },
   "outputs": [],
   "source": [
    "status_categories = load(open(\"status_categories.pickle\", \"rb\"))"
   ]
  },
  {
   "cell_type": "markdown",
   "metadata": {},
   "source": [
    "#### Distribution of the maritial status\n",
    "\n",
    "The most frequent categories correspond to the married and widowed people."
   ]
  },
  {
   "cell_type": "code",
   "execution_count": 32,
   "metadata": {
    "collapsed": false
   },
   "outputs": [
    {
     "data": {
      "image/png": "[encoded data removed]",
      "text/plain": [
       "<matplotlib.figure.Figure at 0x7fca79e9a278>"
      ]
     },
     "metadata": {},
     "output_type": "display_data"
    }
   ],
   "source": [
    "fig, ax = plt.subplots()\n",
    "fig.set_size_inches(3, 5)\n",
    "\n",
    "ax.hist(status_categories.as_matrix(), bins = 5, color=\"#2668A8\", edgecolor=\"white\")\n",
    "ax.set_title(\"Distribution of marital status\")\n",
    "\n",
    "\n",
    "ax.set_xticks(np.arange(5) + [0.4, 0.2, 0, -0.25, -0.4])\n",
    "ax.set_xticklabels([\"Single\",\n",
    "                    \"Married\",\n",
    "                    \"Widowed\",\n",
    "                    \"Divorced\",\n",
    "                    \"Unknow\"], rotation=60)\n",
    "ax.title.set_fontsize(14)\n",
    "\n",
    "for label in (ax.get_xticklabels()):\n",
    "    label.set_fontsize(12)\n",
    "    \n",
    "plt.show()"
   ]
  },
  {
   "cell_type": "markdown",
   "metadata": {},
   "source": [
    "## Data analysis\n",
    "Here we look at:\n",
    "\n",
    "* Correlations between months and causes of death\n",
    "* Correlations between ages and causes of death"
   ]
  },
  {
   "cell_type": "code",
   "execution_count": 33,
   "metadata": {
    "collapsed": false
   },
   "outputs": [],
   "source": [
    "month_cause = pd.pivot_table(pd_data, values='ResidentStatus', index=['MonthOfDeath'],\n",
    "                  columns=['CauseRecode39'], aggfunc=np.sum)\n",
    "month_cause.to_csv(\"month_cause.csv\")\n",
    "\n",
    "normalized_month_cause = month_cause.copy()\n",
    "for column in month_cause.columns:\n",
    "    normalized_month_cause[column] = month_cause[column] / sum(month_cause[column])\n",
    "normalized_month_cause.to_csv(\"normalized_month_cause.csv\")"
   ]
  },
  {
   "cell_type": "markdown",
   "metadata": {},
   "source": [
    "### Correlations between months and causes of death\n",
    "\n",
    "At first sight, the causes of death seem uniform over the months."
   ]
  },
  {
   "cell_type": "code",
   "execution_count": 38,
   "metadata": {
    "collapsed": false,
    "scrolled": false
   },
   "outputs": [
    {
     "data": {
      "image/png": "[encoded data removed]",
      "text/plain": [
       "<matplotlib.figure.Figure at 0x7fca7a00e860>"
      ]
     },
     "metadata": {},
     "output_type": "display_data"
    }
   ],
   "source": [
    "fig, ax = plt.subplots()\n",
    "heatmap = ax.pcolor(month_cause, cmap=plt.cm.Blues)\n",
    "\n",
    "fig = plt.gcf()\n",
    "fig.set_size_inches(13, 7)\n",
    "plt.gca().invert_yaxis()\n",
    "\n",
    "ax.set_xlim([0,39])\n",
    "ax.set_xticks(np.arange(39) + 0.5)\n",
    "ax.set_xticklabels(month_cause.columns)\n",
    "ax.set_yticks(np.arange(12) + 0.5)\n",
    "ax.set_yticklabels([\"January\",\n",
    "                    \"February\",\n",
    "                    \"March\",\n",
    "                    \"April\",\n",
    "                    \"May\",\n",
    "                    \"June\",\n",
    "                    \"July\",\n",
    "                    \"August\",\n",
    "                    \"September\",\n",
    "                    \"October\",\n",
    "                    \"November\",\n",
    "                    \"December\"])\n",
    "\n",
    "for label in (ax.get_yticklabels()):\n",
    "    label.set_fontsize(14)\n",
    "\n",
    "\n",
    "plt.title(\"Heat map of cause of death per month\")\n",
    "    \n",
    "ax.title.set_fontsize(18)\n",
    "\n",
    "plt.show()"
   ]
  },
  {
   "cell_type": "markdown",
   "metadata": {},
   "source": [
    "Some correlations appear when he normalize the heat map:\n",
    "\n",
    "* Strange frequency values for Syphilis, a lot of deaths in March.\n",
    "* Strange frequency for deaths in pregnancy: a lot of deaths in January and July, but almost nothing in August.\n",
    "* Deaths from influenza and pneumonia in cold months.\n",
    "* Frequent deathes from Atherosclerosis and Alzheimer’s disease in December.\n",
    "* More suicides in August and September."
   ]
  },
  {
   "cell_type": "code",
   "execution_count": 39,
   "metadata": {
    "collapsed": false
   },
   "outputs": [
    {
     "data": {
      "image/png": "[encoded data removed]",
      "text/plain": [
       "<matplotlib.figure.Figure at 0x7fca79e1d710>"
      ]
     },
     "metadata": {},
     "output_type": "display_data"
    }
   ],
   "source": [
    "fig, ax = plt.subplots()\n",
    "heatmap = ax.pcolor(normalized_month_cause, cmap=plt.cm.Blues)\n",
    "\n",
    "fig = plt.gcf()\n",
    "fig.set_size_inches(13, 7)\n",
    "plt.gca().invert_yaxis()\n",
    "\n",
    "ax.set_xlim([0,39])\n",
    "ax.set_xticks(np.arange(39)+0.5)\n",
    "ax.set_xticklabels(normalized_month_cause.columns)\n",
    "ax.set_yticks(np.arange(12)+0.5)\n",
    "ax.set_yticklabels([\"January\",\n",
    "                    \"February\",\n",
    "                    \"March\",\n",
    "                    \"April\",\n",
    "                    \"May\",\n",
    "                    \"June\",\n",
    "                    \"July\",\n",
    "                    \"August\",\n",
    "                    \"September\",\n",
    "                    \"October\",\n",
    "                    \"November\",\n",
    "                    \"December\"])\n",
    "\n",
    "for label in (ax.get_yticklabels()):\n",
    "    label.set_fontsize(14)\n",
    "\n",
    "plt.title(\"Normalized heat map of cause of death per month\")\n",
    "    \n",
    "ax.title.set_fontsize(18)\n",
    "\n",
    "pp = PdfPages('beamer/img/normalized_month_cause.pdf')\n",
    "fig.savefig(pp, format='pdf')\n",
    "pp.close()\n",
    "\n",
    "plt.show()"
   ]
  },
  {
   "cell_type": "code",
   "execution_count": 40,
   "metadata": {
    "collapsed": false
   },
   "outputs": [],
   "source": [
    "age_cause = pd.pivot_table(pd_data, values='ResidentStatus', index=['AgeRecode27'],\n",
    "                  columns=['CauseRecode39'], aggfunc=np.sum)\n",
    "age_cause[np.isnan(age_cause)] = 0\n",
    "age_cause.to_csv(\"age_cause.csv\")\n",
    "normalized_age_cause = age_cause.copy()\n",
    "for column in age_cause.columns:\n",
    "    normalized_age_cause[column] = age_cause[column] / sum(age_cause[column])\n",
    "normalized_age_cause.to_csv(\"normalized_age_cause.csv\")"
   ]
  },
  {
   "cell_type": "markdown",
   "metadata": {},
   "source": [
    "### Correlations between age and cause of death\n",
    "\n",
    "For almost all of the causes, the frequencies seem to increase for older age."
   ]
  },
  {
   "cell_type": "code",
   "execution_count": 42,
   "metadata": {
    "collapsed": false,
    "scrolled": false
   },
   "outputs": [
    {
     "data": {
      "image/png": "[encoded data removed]",
      "text/plain": [
       "<matplotlib.figure.Figure at 0x7fcab68bfbe0>"
      ]
     },
     "metadata": {},
     "output_type": "display_data"
    }
   ],
   "source": [
    "fig, ax = plt.subplots()\n",
    "heatmap = ax.pcolor(age_cause, cmap=plt.cm.Blues)\n",
    "\n",
    "fig = plt.gcf()\n",
    "fig.set_size_inches(13, 7)\n",
    "\n",
    "ax.set_ylim([0,27])\n",
    "ax.set_xlim([0,39])\n",
    "ax.invert_yaxis()\n",
    "\n",
    "ax.set_xticks(np.arange(39) + 0.5)\n",
    "ax.set_xticklabels(age_cause.columns)\n",
    "ax.set_yticks(np.arange(27) + 0.5)\n",
    "ax.set_yticklabels(np.arange(len(age_cause.columns)) + 1)\n",
    "\n",
    "plt.title(\"Heat map of cause of death per age category\")\n",
    "    \n",
    "ax.title.set_fontsize(18)\n",
    "\n",
    "plt.show()"
   ]
  },
  {
   "cell_type": "markdown",
   "metadata": {},
   "source": [
    "When we normalize the heat map, some correlations appear:\n",
    "\n",
    "* Deaths from HIV are more frequent for 35 - 59 years.\n",
    "* Deaths from Alzheimer’s disease are more frequent for 85 - 94 years.\n",
    "* Deaths during pregnancy are more frequent around 30 - 34 years.\n",
    "* Motor vehicle accidents are very frequent for 15 - 19 years."
   ]
  },
  {
   "cell_type": "code",
   "execution_count": 43,
   "metadata": {
    "collapsed": false,
    "scrolled": false
   },
   "outputs": [
    {
     "data": {
      "image/png": "[encoded data removed]",
      "text/plain": [
       "<matplotlib.figure.Figure at 0x7fca79956b70>"
      ]
     },
     "metadata": {},
     "output_type": "display_data"
    }
   ],
   "source": [
    "fig, ax = plt.subplots()\n",
    "heatmap = ax.pcolor(normalized_age_cause, cmap=plt.cm.Blues)\n",
    "\n",
    "fig = plt.gcf()\n",
    "fig.set_size_inches(13, 7)\n",
    "\n",
    "ax.set_ylim([0,27])\n",
    "ax.set_xlim([0,39])\n",
    "ax.invert_yaxis()\n",
    "\n",
    "ax.set_xticks(np.arange(39) + 0.5)\n",
    "ax.set_xticklabels(age_cause.columns)\n",
    "ax.set_yticks(np.arange(27) + 0.5)\n",
    "ax.set_yticklabels(np.arange(len(age_cause.columns)) + 1)\n",
    "\n",
    "\n",
    "plt.title(\"Normalized heat map of cause of death per age category\")\n",
    "    \n",
    "ax.title.set_fontsize(18)\n",
    "\n",
    "plt.show()"
   ]
  },
  {
   "cell_type": "code",
   "execution_count": 44,
   "metadata": {
    "collapsed": true
   },
   "outputs": [],
   "source": [
    "temp_data = pd_data[(pd_data.ActivityCode != 99) & (pd_data.ActivityCode != 9)]\n",
    "activity_day_of_week = pd.pivot_table(temp_data, values='ResidentStatus', index=['DayOfWeekOfDeath'],\n",
    "                  columns=['ActivityCode'], aggfunc=np.sum)\n",
    "activity_day_of_week[np.isnan(activity_day_of_week)] = 0\n",
    "activity_day_of_week.to_csv(\"activity_day_of_week.csv\")\n",
    "\n",
    "normalized_activity_day_of_week = activity_day_of_week.copy()\n",
    "for column in activity_day_of_week.columns:\n",
    "    normalized_activity_day_of_week[column] = activity_day_of_week[column] / sum(activity_day_of_week[column])\n",
    "normalized_activity_day_of_week.to_csv(\"normalized_activity_day_of_week.csv\")"
   ]
  },
  {
   "cell_type": "markdown",
   "metadata": {},
   "source": [
    "### Correlation between the activity and the day of the week\n",
    "A few correlations appear at first sight:\n",
    "\n",
    "* People mostly die during frequent activities: leasure and vital activities (eating, sleeping etc).\n",
    "* Low frequency of death while engaged with sport activities."
   ]
  },
  {
   "cell_type": "code",
   "execution_count": 47,
   "metadata": {
    "collapsed": false,
    "scrolled": false
   },
   "outputs": [
    {
     "data": {
      "image/png": "[encoded data removed]",
      "text/plain": [
       "<matplotlib.figure.Figure at 0x7fca79c3d898>"
      ]
     },
     "metadata": {},
     "output_type": "display_data"
    }
   ],
   "source": [
    "fig, ax = plt.subplots()\n",
    "heatmap = ax.pcolor(activity_day_of_week, cmap=plt.cm.Blues)\n",
    "\n",
    "fig = plt.gcf()\n",
    "fig.set_size_inches(13, 7)\n",
    "\n",
    "ax.set_ylim([0,7])\n",
    "ax.set_xlim([0,6])\n",
    "ax.invert_yaxis()\n",
    "\n",
    "ax.set_xticks(np.arange(6) + 0.5)\n",
    "ax.set_xticklabels([\"Sports activity\",\n",
    "                    \"Leisure activity\",\n",
    "                    \"Working for income\",\n",
    "                    \"Other work\",\n",
    "                    \"Vital activities\",\n",
    "                    \"Other activities\"], rotation=60)\n",
    "ax.set_yticks(np.arange(7) + 0.5)\n",
    "ax.set_yticklabels([\"Sunday\",\n",
    "                    \"Monday\",\n",
    "                    \"Tuesday\",\n",
    "                    \"Wednesday\",\n",
    "                    \"Thursday\",\n",
    "                    \"Friday\",\n",
    "                    \"Saturday\",\n",
    "                    \"Unknown\"])\n",
    "\n",
    "\n",
    "for label in (ax.get_yticklabels() + ax.get_xticklabels()):\n",
    "    label.set_fontsize(14)\n",
    "\n",
    "plt.title(\"Heat map of activity during the death per day of week\")\n",
    "ax.title.set_fontsize(18)\n",
    "fig.subplots_adjust(bottom=0.4)\n",
    "\n",
    "plt.show()"
   ]
  },
  {
   "cell_type": "markdown",
   "metadata": {},
   "source": [
    "When we normalize the heat map, other correlations appear:\n",
    "\n",
    "* Death registered while engaged in leasure activity are more freqent during week-ends (specially Saturday).\n",
    "* Death during the sport activities are more frequent on Friday and Saturday.\n",
    "* Death registered while engaged with other work are strangely more frequent on Tuesday."
   ]
  },
  {
   "cell_type": "code",
   "execution_count": 48,
   "metadata": {
    "collapsed": false
   },
   "outputs": [
    {
     "data": {
      "image/png": "[encoded data removed]",
      "text/plain": [
       "<matplotlib.figure.Figure at 0x7fcab7178d30>"
      ]
     },
     "metadata": {},
     "output_type": "display_data"
    }
   ],
   "source": [
    "fig, ax = plt.subplots()\n",
    "heatmap = ax.pcolor(normalized_activity_day_of_week, cmap=plt.cm.Blues)\n",
    "\n",
    "fig = plt.gcf()\n",
    "fig.set_size_inches(13, 7)\n",
    "\n",
    "ax.set_ylim([0,7])\n",
    "ax.set_xlim([0,6])\n",
    "ax.invert_yaxis()\n",
    "\n",
    "ax.set_xticks(np.arange(6) + 0.5)\n",
    "ax.set_xticklabels([\"Sports activity\",\n",
    "                    \"Leisure activity\",\n",
    "                    \"Working for income\",\n",
    "                    \"Other work\",\n",
    "                    \"Vital activities\",\n",
    "                    \"Other activities\"], rotation=60)\n",
    "ax.set_yticks(np.arange(7) + 0.5)\n",
    "ax.set_yticklabels([\"Sunday\",\n",
    "                    \"Monday\",\n",
    "                    \"Tuesday\",\n",
    "                    \"Wednesday\",\n",
    "                    \"Thursday\",\n",
    "                    \"Friday\",\n",
    "                    \"Saturday\",\n",
    "                    \"Unknown\"])\n",
    "\n",
    "fig.subplots_adjust(bottom=0.4)\n",
    "for label in (ax.get_yticklabels() + ax.get_xticklabels()):\n",
    "    label.set_fontsize(14)\n",
    "\n",
    "plt.title(\"Heat map of activity during the death per day of week\")\n",
    "ax.title.set_fontsize(18)\n",
    "\n",
    "plt.show()"
   ]
  },
  {
   "cell_type": "markdown",
   "metadata": {},
   "source": [
    "# Learning\n",
    "In this part, we try to learn the way people die, based on 4 features generated before:\n",
    "\n",
    "- Education (8 bins)\n",
    "- Sex\n",
    "- Race (White, Black, Other)\n",
    "- Martial status (Single, Married, ...)\n",
    "\n",
    "We will try to use some learning models to \"guess\" how people die based one these 4 informations.  \n",
    "Two informaions will be tried to be learned: \n",
    "\n",
    "The **manner** of death. 7 categories:\n",
    "\n",
    "  * Accident\n",
    "  * Suicide\n",
    "  * Homicide\n",
    "  * Pending investigation\n",
    "  * Could not determine\n",
    "  * Self-Inflicted\n",
    "  * Natural\n",
    "\n",
    "The **cause** of death (much more precise: 39 categories)"
   ]
  },
  {
   "cell_type": "markdown",
   "metadata": {},
   "source": [
    "## Learning the Manner of death (7 bins)\n",
    "\n",
    "First, we load the features generated by previous part."
   ]
  },
  {
   "cell_type": "code",
   "execution_count": 49,
   "metadata": {
    "collapsed": false
   },
   "outputs": [],
   "source": [
    "import numpy as np\n",
    "from pickle import load\n",
    "from time import time\n",
    "\n",
    "features = load(open(\"features4.pickle\", \"rb\"))\n",
    "y_all = load(open(\"manner.pickle\", \"rb\"))"
   ]
  },
  {
   "cell_type": "markdown",
   "metadata": {
    "collapsed": false
   },
   "source": [
    "After that, we generate the train and test sets, the train set being a random subset of 10000 people from the entire dataset."
   ]
  },
  {
   "cell_type": "code",
   "execution_count": 59,
   "metadata": {
    "collapsed": false
   },
   "outputs": [],
   "source": [
    "from sklearn.cross_validation import train_test_split\n",
    "\n",
    "selected = np.random.randint(y_all.shape[0],size=10000)\n",
    "X = features[selected,:]\n",
    "y = y_all[selected]\n",
    "\n",
    "X, X_test, y, y_test = train_test_split(\n",
    "    X, y, test_size=0.33, random_state=42)"
   ]
  },
  {
   "cell_type": "markdown",
   "metadata": {},
   "source": [
    "On these sets, we perform a transformation to perform distances between **categorical** features."
   ]
  },
  {
   "cell_type": "code",
   "execution_count": 60,
   "metadata": {
    "collapsed": false
   },
   "outputs": [],
   "source": [
    "from sklearn.preprocessing import OneHotEncoder\n",
    "enc = OneHotEncoder()\n",
    "X = enc.fit_transform(X)\n",
    "X_test = enc.transform(X_test)"
   ]
  },
  {
   "cell_type": "markdown",
   "metadata": {},
   "source": [
    "### Model comparison"
   ]
  },
  {
   "cell_type": "markdown",
   "metadata": {},
   "source": [
    "#### SVC"
   ]
  },
  {
   "cell_type": "code",
   "execution_count": 61,
   "metadata": {
    "collapsed": false,
    "scrolled": true
   },
   "outputs": [
    {
     "name": "stdout",
     "output_type": "stream",
     "text": [
      "TRAINING....\n",
      "TIME:\n",
      " 5.924397706985474\n",
      "SCORE:\n",
      "0.77696969697\n"
     ]
    }
   ],
   "source": [
    "from sklearn.multiclass import OneVsRestClassifier\n",
    "from sklearn.svm import SVC\n",
    "from sklearn import cross_validation\n",
    "\n",
    "C = 10\n",
    "clf = OneVsRestClassifier(\n",
    "    SVC(kernel='linear', C=C, probability=True), n_jobs=4)\n",
    "\n",
    "print(\"TRAINING....\")\n",
    "\n",
    "t0 = time()\n",
    "clf.fit(X, y)\n",
    "t1 = time()\n",
    "print(\"TIME:\\n\", t1-t0)\n",
    "\n",
    "print(\"SCORE:\")\n",
    "print(clf.score(X_test, y_test))"
   ]
  },
  {
   "cell_type": "markdown",
   "metadata": {},
   "source": [
    "#### K neighbors"
   ]
  },
  {
   "cell_type": "code",
   "execution_count": 53,
   "metadata": {
    "collapsed": false
   },
   "outputs": [
    {
     "name": "stdout",
     "output_type": "stream",
     "text": [
      "TRAINING....\n",
      "TIME:\n",
      " 0.001226186752319336\n",
      "SCORE:\n",
      "0.788484848485\n"
     ]
    }
   ],
   "source": [
    "from sklearn.neighbors import KNeighborsClassifier\n",
    "\n",
    "clf = KNeighborsClassifier(n_neighbors=300)\n",
    "print(\"TRAINING....\")\n",
    "\n",
    "t0 = time()\n",
    "clf.fit(X, y)\n",
    "t1 = time()\n",
    "print(\"TIME:\\n\", t1-t0)\n",
    "\n",
    "print(\"SCORE:\")\n",
    "print(clf.score(X_test, y_test))"
   ]
  },
  {
   "cell_type": "markdown",
   "metadata": {},
   "source": [
    "#### Naive Bayes"
   ]
  },
  {
   "cell_type": "code",
   "execution_count": 54,
   "metadata": {
    "collapsed": false
   },
   "outputs": [
    {
     "name": "stdout",
     "output_type": "stream",
     "text": [
      "TRAINING....\n",
      "TIME:\n",
      " 0.008626937866210938\n",
      "SCORE:\n",
      "0.786363636364\n"
     ]
    }
   ],
   "source": [
    "from sklearn.naive_bayes import MultinomialNB\n",
    "\n",
    "clf = MultinomialNB()\n",
    "print(\"TRAINING....\")\n",
    "\n",
    "t0 = time()\n",
    "clf.fit(X.toarray(), y)\n",
    "t1 = time()\n",
    "print(\"TIME:\\n\", t1-t0)\n",
    "\n",
    "\n",
    "print(\"SCORE:\")\n",
    "print(clf.score(X_test.toarray(), y_test))"
   ]
  },
  {
   "cell_type": "markdown",
   "metadata": {},
   "source": [
    "Here the three models give greate results (very high score), but we can see that the linear SVC is much slower than the other two.  \n",
    "For the examples below, the Naive Bayes model is used."
   ]
  },
  {
   "cell_type": "markdown",
   "metadata": {},
   "source": [
    "### Examples"
   ]
  },
  {
   "cell_type": "markdown",
   "metadata": {},
   "source": [
    "Black man with no education"
   ]
  },
  {
   "cell_type": "code",
   "execution_count": 62,
   "metadata": {
    "collapsed": false
   },
   "outputs": [
    {
     "data": {
      "text/plain": [
       "array([[  1.35313632e-01,   5.62983702e-02,   1.93799596e-02,\n",
       "          8.70551853e-03,   5.06012241e-04,   4.49193986e-03,\n",
       "          7.75304568e-01]])"
      ]
     },
     "execution_count": 62,
     "metadata": {},
     "output_type": "execute_result"
    }
   ],
   "source": [
    "ex = enc.transform([[1, 0, 3, 0]])\n",
    "clf.predict_proba(ex)"
   ]
  },
  {
   "cell_type": "markdown",
   "metadata": {},
   "source": [
    "White woman married, with high education"
   ]
  },
  {
   "cell_type": "code",
   "execution_count": 63,
   "metadata": {
    "collapsed": false
   },
   "outputs": [
    {
     "data": {
      "text/plain": [
       "array([[  1.40726017e-01,   5.41724284e-02,   1.93013870e-02,\n",
       "          8.67016922e-03,   5.03930033e-04,   4.47371774e-03,\n",
       "          7.72152350e-01]])"
      ]
     },
     "execution_count": 63,
     "metadata": {},
     "output_type": "execute_result"
    }
   ],
   "source": [
    "ex = enc.transform([[6, 1, 1, 1]])\n",
    "clf.predict_proba(ex)"
   ]
  },
  {
   "cell_type": "markdown",
   "metadata": {
    "collapsed": true
   },
   "source": [
    "## Learning the cause of death (39 bins)"
   ]
  },
  {
   "cell_type": "code",
   "execution_count": 64,
   "metadata": {
    "collapsed": true
   },
   "outputs": [],
   "source": [
    "features = load(open(\"features4.pickle\", \"rb\"))\n",
    "y_all = load(open(\"cause.pickle\", \"rb\"))\n",
    "\n",
    "from sklearn.cross_validation import train_test_split\n",
    "\n",
    "selected = np.random.randint(y_all.shape[0],size=10000)\n",
    "X = features[selected,:]\n",
    "y = y_all[selected]\n",
    "\n",
    "X, X_test, y, y_test = train_test_split(\n",
    "    X, y, test_size=0.33, random_state=42)\n",
    "\n",
    "from sklearn.preprocessing import OneHotEncoder\n",
    "enc = OneHotEncoder()\n",
    "X = enc.fit_transform(X)\n",
    "X_test = enc.transform(X_test)"
   ]
  },
  {
   "cell_type": "markdown",
   "metadata": {},
   "source": [
    "### K Neighbors"
   ]
  },
  {
   "cell_type": "code",
   "execution_count": 65,
   "metadata": {
    "collapsed": false
   },
   "outputs": [
    {
     "name": "stdout",
     "output_type": "stream",
     "text": [
      "TRAINING....\n",
      "TIME:\n",
      " 0.001646280288696289\n",
      "SCORE:\n",
      "0.188484848485\n"
     ]
    }
   ],
   "source": [
    "from sklearn.neighbors import KNeighborsClassifier\n",
    "\n",
    "clf = KNeighborsClassifier(n_neighbors=300)\n",
    "print(\"TRAINING....\")\n",
    "\n",
    "t0 = time()\n",
    "clf.fit(X, y)\n",
    "t1 = time()\n",
    "print(\"TIME:\\n\", t1-t0)\n",
    "\n",
    "print(\"SCORE:\")\n",
    "print(clf.score(X_test, y_test))"
   ]
  },
  {
   "cell_type": "markdown",
   "metadata": {},
   "source": [
    "As you can see, for learning these 39 bins, we don't have much information. The error is to small to expect reliable results from the model. We are here at the limit of this dataset. \n",
    "\n",
    "To be able to learn this precise cause of deatch, we must have access to more information about these people like medical details, geographic position, ..."
   ]
  },
  {
   "cell_type": "markdown",
   "metadata": {},
   "source": [
    "# Clustering\n",
    "\n",
    "We try to apply some clustering techniques on our data to discover patterns."
   ]
  },
  {
   "cell_type": "markdown",
   "metadata": {},
   "source": [
    "## Clustering with k-means\n",
    "\n",
    "http://scikit-learn.org/stable/modules/generated/sklearn.cluster.KMeans.html\n",
    "\n",
    "We perform k-means clustering on the dataset with the following features:\n",
    "\n",
    "- Education category\n",
    "- Sex\n",
    "- Race\n",
    "- Marital\n",
    "- Manner of death"
   ]
  },
  {
   "cell_type": "code",
   "execution_count": 67,
   "metadata": {
    "collapsed": true
   },
   "outputs": [],
   "source": [
    "from sklearn.preprocessing import OneHotEncoder\n",
    "from sklearn.cluster import KMeans, SpectralClustering\n",
    "from sklearn import decomposition"
   ]
  },
  {
   "cell_type": "code",
   "execution_count": 71,
   "metadata": {
    "collapsed": false
   },
   "outputs": [
    {
     "name": "stdout",
     "output_type": "stream",
     "text": [
      "Cluster centers:\n",
      "[  3.22679717   0.4957813    1.28450894   1.51805602  11.76915289\n",
      "  11.76915289  11.76915289]\n",
      "[  3.04411765   0.48104575   1.27352941   1.44803922  37.08333333\n",
      "  37.08333333  37.08333333]\n",
      "[  3.10309278   0.48881066   1.24440533   1.62283128  23.37465426\n",
      "  23.37465426  23.37465426]\n"
     ]
    }
   ],
   "source": [
    "features = np.column_stack((features, y_all))\n",
    "selected = np.random.randint(features.shape[0],size=10000)\n",
    "X = features[selected,:]\n",
    "\n",
    "model = KMeans(n_clusters=3)\n",
    "model.fit(X)\n",
    "print(\"Cluster centers:\")\n",
    "for c in model.cluster_centers_:\n",
    "    print(c)"
   ]
  },
  {
   "cell_type": "markdown",
   "metadata": {},
   "source": [
    "When we try to interpret the centroid values of the clusters we can see that three clusters were extracted:\n",
    "\n",
    "- People with high education category that died from Natural death\n",
    "- People with average education category that died from Accident/Suicide\n",
    "- People with average education category that died from Natural death\n",
    "\n",
    "In general, clustering with more clusters does not give us interpretable results, and usually separates the data by the education category and different manners of death"
   ]
  },
  {
   "cell_type": "markdown",
   "metadata": {},
   "source": [
    "## PCA for clustering visualization in 2D\n",
    "\n",
    "To visualize the results of clustering in 2D we use Principle Component Analysis and take first two principal components\n",
    "\n",
    "http://scikit-learn.org/stable/modules/generated/sklearn.decomposition.PCA.html"
   ]
  },
  {
   "cell_type": "code",
   "execution_count": 1,
   "metadata": {
    "collapsed": false
   },
   "outputs": [
    {
     "ename": "NameError",
     "evalue": "name 'decomposition' is not defined",
     "output_type": "error",
     "traceback": [
      "\u001b[1;31m---------------------------------------------------------------------------\u001b[0m",
      "\u001b[1;31mNameError\u001b[0m                                 Traceback (most recent call last)",
      "\u001b[1;32m<ipython-input-1-e6caab9542e9>\u001b[0m in \u001b[0;36m<module>\u001b[1;34m()\u001b[0m\n\u001b[1;32m----> 1\u001b[1;33m \u001b[0mpca\u001b[0m \u001b[1;33m=\u001b[0m \u001b[0mdecomposition\u001b[0m\u001b[1;33m.\u001b[0m\u001b[0mPCA\u001b[0m\u001b[1;33m(\u001b[0m\u001b[0mn_components\u001b[0m\u001b[1;33m=\u001b[0m\u001b[1;36m2\u001b[0m\u001b[1;33m)\u001b[0m\u001b[1;33m\u001b[0m\u001b[0m\n\u001b[0m\u001b[0;32m      2\u001b[0m \u001b[0mpca\u001b[0m\u001b[1;33m.\u001b[0m\u001b[0mfit\u001b[0m\u001b[1;33m(\u001b[0m\u001b[0mX\u001b[0m\u001b[1;33m)\u001b[0m\u001b[1;33m\u001b[0m\u001b[0m\n\u001b[0;32m      3\u001b[0m \u001b[0mX_reduced\u001b[0m \u001b[1;33m=\u001b[0m \u001b[0mpca\u001b[0m\u001b[1;33m.\u001b[0m\u001b[0mtransform\u001b[0m\u001b[1;33m(\u001b[0m\u001b[0mX\u001b[0m\u001b[1;33m)\u001b[0m\u001b[1;33m\u001b[0m\u001b[0m\n",
      "\u001b[1;31mNameError\u001b[0m: name 'decomposition' is not defined"
     ]
    }
   ],
   "source": [
    "pca = decomposition.PCA(n_components=2)\n",
    "pca.fit(X)\n",
    "X_reduced = pca.transform(X)"
   ]
  },
  {
   "cell_type": "code",
   "execution_count": null,
   "metadata": {
    "collapsed": false
   },
   "outputs": [],
   "source": [
    "fig, ax = plt.subplots()\n",
    "fig.set_size_inches(11, 7)\n",
    "\n",
    "colors = np.choose(model.labels_, [\"r\",\"g\", \"b\"])\n",
    "ax.scatter(X_reduced[:, 0], X_reduced[:, 1], c=colors, cmap=plt.cm.spectral, lw=0, s=60)\n",
    "plt.title(\"Data projected on two principal components with cluster colors\")\n",
    "\n",
    "plt.show()"
   ]
  },
  {
   "cell_type": "markdown",
   "metadata": {},
   "source": [
    "# Biclustering\n",
    "\n",
    "http://scikit-learn.org/stable/modules/biclustering.html\n",
    "\n",
    "We tried to apply biclustering  to find some patterns in the following dataset:\n",
    "- Age Cateogry / Cause of death frequency table\n"
   ]
  },
  {
   "cell_type": "code",
   "execution_count": null,
   "metadata": {
    "collapsed": true
   },
   "outputs": [],
   "source": [
    "normalized_age_cause = pd.read_csv(\"normalized_age_cause.csv\")\n",
    "age_cause = pd.read_csv(\"age_cause.csv\")"
   ]
  },
  {
   "cell_type": "code",
   "execution_count": null,
   "metadata": {
    "collapsed": false,
    "scrolled": false
   },
   "outputs": [],
   "source": [
    "from sklearn.cluster.bicluster import SpectralBiclustering\n",
    "\n",
    "model = SpectralBiclustering(n_clusters=3)\n",
    "model.fit(normalized_age_cause)\n",
    "\n",
    "row_indices = np.argsort(model.row_labels_)\n",
    "fit_data = normalized_age_cause.iloc(row_indices)\n",
    "fit_data = fit_data[:, np.argsort(model.column_labels_)]\n",
    "\n",
    "plt.matshow(fit_data, cmap=plt.cm.Blues)\n",
    "plt.title(\"Age/cause data:after biclustering\")\n",
    "\n",
    "plt.show()"
   ]
  },
  {
   "cell_type": "code",
   "execution_count": null,
   "metadata": {
    "collapsed": false,
    "scrolled": false
   },
   "outputs": [],
   "source": [
    "model = SpectralBiclustering(n_clusters=3)\n",
    "model.fit(age_cause)\n",
    "\n",
    "row_indices = np.argsort(model.row_labels_)\n",
    "fit_data = age_cause.iloc(row_indices)\n",
    "fit_data = fit_data[:, np.argsort(model.column_labels_)]\n",
    "\n",
    "plt.matshow(fit_data, cmap=plt.cm.Blues)\n",
    "plt.title(\"Normalized age/cause: after biclustering\")\n",
    "\n",
    "plt.show()"
   ]
  },
  {
   "cell_type": "markdown",
   "metadata": {},
   "source": [
    "Biclustering seems not to give any meaningful results, because it was very hard to interpret the clusters. For example, the biclustering assigns Alzheimer’s disease and syndrome of instant infant death were assigned to the same cluster."
   ]
  },
  {
   "cell_type": "markdown",
   "metadata": {},
   "source": [
    "# Conclusion\n",
    "\n",
    "The dataset is very rich, but the majority of the fields include information about the death itself, and not about the person. This is the reason why predictive model performes well on the manner of death prediction (only 7 categories), but does not give precise answers on the cause of death (more precise with 39 categories). This could be improved by intersecting our data with an external knowledge database about these dead people.\n",
    "\n",
    "A lot of interesting correlations can be found in the dataset, which gives opportunity to discover some interesting patterns, if we continue the investigation with usupervised machine learning techniques."
   ]
  }
 ],
 "metadata": {
  "kernelspec": {
   "display_name": "IPython (Python 3)",
   "language": "python",
   "name": "python3"
  },
  "language_info": {
   "codemirror_mode": {
    "name": "ipython",
    "version": 3
   },
   "file_extension": ".py",
   "mimetype": "text/x-python",
   "name": "python",
   "nbconvert_exporter": "python",
   "pygments_lexer": "ipython3",
   "version": "3.5.1"
  }
 },
 "nbformat": 4,
 "nbformat_minor": 0
}
